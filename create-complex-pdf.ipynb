{
 "cells": [
  {
   "cell_type": "code",
   "execution_count": 3,
   "metadata": {},
   "outputs": [],
   "source": [
    "from pypdf import PdfWriter, PdfReader\n",
    "\n",
    "inputpdf = PdfReader(open(\"complex-input.pdf\", \"rb\"))\n",
    "output = PdfWriter()\n",
    "for i in range(30):\n",
    "    output.add_page(inputpdf.pages[i])\n",
    "    \n",
    "with open(\"complex.pdf\", \"wb\") as outputStream:\n",
    "        output.write(outputStream)"
   ]
  }
 ],
 "metadata": {
  "kernelspec": {
   "display_name": ".venv",
   "language": "python",
   "name": "python3"
  },
  "language_info": {
   "codemirror_mode": {
    "name": "ipython",
    "version": 3
   },
   "file_extension": ".py",
   "mimetype": "text/x-python",
   "name": "python",
   "nbconvert_exporter": "python",
   "pygments_lexer": "ipython3",
   "version": "3.12.9"
  }
 },
 "nbformat": 4,
 "nbformat_minor": 2
}
