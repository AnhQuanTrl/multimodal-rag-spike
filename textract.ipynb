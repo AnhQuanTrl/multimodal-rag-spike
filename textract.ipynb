{
 "cells": [
  {
   "cell_type": "code",
   "execution_count": 1,
   "metadata": {},
   "outputs": [],
   "source": [
    "import os\n",
    "import getpass\n",
    "from textractor import Textractor\n",
    "from textractor.data.constants import TextractFeatures, TextractAPI\n",
    "from textractor.data.markdown_linearization_config import MarkdownLinearizationConfig"
   ]
  },
  {
   "cell_type": "code",
   "execution_count": 7,
   "metadata": {},
   "outputs": [],
   "source": [
    "def _set_env(var: str):\n",
    "    os.environ[var] = getpass.getpass(f\"{var}: \")\n",
    "\n",
    "_set_env(\"AWS_ACCESS_KEY_ID\")\n",
    "_set_env(\"AWS_SECRET_ACCESS_KEY\")\n",
    "_set_env(\"AWS_SESSION_TOKEN\")"
   ]
  },
  {
   "cell_type": "code",
   "execution_count": 8,
   "metadata": {},
   "outputs": [],
   "source": [
    "extractor = Textractor(region_name=\"ap-southeast-2\")"
   ]
  },
  {
   "cell_type": "code",
   "execution_count": 9,
   "metadata": {},
   "outputs": [],
   "source": [
    "resp = extractor.start_document_analysis(\n",
    "    file_source=\"./wildfire.pdf\",\n",
    "    s3_upload_path=\"s3://spike-pdf-converter\",\n",
    "    features=[TextractFeatures.LAYOUT, TextractFeatures.TABLES],\n",
    "    save_image=True,\n",
    ")"
   ]
  },
  {
   "cell_type": "code",
   "execution_count": 10,
   "metadata": {},
   "outputs": [],
   "source": [
    "job_id = resp.job_id\n",
    "document = extractor.get_result(job_id, TextractAPI.ANALYZE)"
   ]
  },
  {
   "cell_type": "code",
   "execution_count": 35,
   "metadata": {},
   "outputs": [],
   "source": [
    "config = MarkdownLinearizationConfig(\n",
    "    table_remove_column_headers=True\n",
    ")\n",
    "\n",
    "MD_PATH = \"./markdown/textract/wildfire.md\"\n",
    "with open(MD_PATH, \"w\") as writer:\n",
    "    writer.writelines(document.get_text(config=config))"
   ]
  }
 ],
 "metadata": {
  "kernelspec": {
   "display_name": ".venv",
   "language": "python",
   "name": "python3"
  },
  "language_info": {
   "codemirror_mode": {
    "name": "ipython",
    "version": 3
   },
   "file_extension": ".py",
   "mimetype": "text/x-python",
   "name": "python",
   "nbconvert_exporter": "python",
   "pygments_lexer": "ipython3",
   "version": "3.12.9"
  }
 },
 "nbformat": 4,
 "nbformat_minor": 2
}
