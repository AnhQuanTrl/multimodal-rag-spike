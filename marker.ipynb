{
 "cells": [
  {
   "cell_type": "code",
   "execution_count": 7,
   "metadata": {},
   "outputs": [],
   "source": [
    "from marker.converters.pdf import PdfConverter\n",
    "from marker.models import create_model_dict\n",
    "from marker.output import text_from_rendered, save_output\n",
    "from marker.config.parser import ConfigParser\n",
    "import torch\n",
    "import time\n",
    "from pathlib import Path"
   ]
  },
  {
   "cell_type": "code",
   "execution_count": 2,
   "metadata": {},
   "outputs": [],
   "source": [
    "config = ConfigParser(\n",
    "    {\n",
    "        \"output_format\": \"markdown\",\n",
    "        \"languages\": \"eng\",  # Change to your desired language (e.g., \"dan\" for Danish)\n",
    "        \"use_llm\": False,  # Enable LLM features\n",
    "        \"disable_image_extraction\": False, # disables image extraction\n",
    "    }\n",
    ")"
   ]
  },
  {
   "cell_type": "code",
   "execution_count": 3,
   "metadata": {},
   "outputs": [
    {
     "name": "stderr",
     "output_type": "stream",
     "text": [
      "Downloading layout model...: 100%|██████████| 5/5 [00:05<00:00,  1.04s/it]\n"
     ]
    },
    {
     "name": "stdout",
     "output_type": "stream",
     "text": [
      "Loaded layout model s3://layout/2025_02_18 on device mps with dtype torch.float16\n"
     ]
    },
    {
     "name": "stderr",
     "output_type": "stream",
     "text": [
      "Downloading texify model...: 100%|██████████| 9/9 [00:06<00:00,  1.29it/s]\n"
     ]
    },
    {
     "name": "stdout",
     "output_type": "stream",
     "text": [
      "Loaded texify model s3://texify/2025_02_18 on device mps with dtype torch.float16\n"
     ]
    },
    {
     "name": "stderr",
     "output_type": "stream",
     "text": [
      "Downloading text_recognition model...: 100%|██████████| 9/9 [00:18<00:00,  2.03s/it]\n"
     ]
    },
    {
     "name": "stdout",
     "output_type": "stream",
     "text": [
      "Loaded recognition model s3://text_recognition/2025_02_18 on device mps with dtype torch.float16\n"
     ]
    },
    {
     "name": "stderr",
     "output_type": "stream",
     "text": [
      "Downloading table_recognition model...: 100%|██████████| 5/5 [00:03<00:00,  1.25it/s]\n"
     ]
    },
    {
     "name": "stdout",
     "output_type": "stream",
     "text": [
      "Loaded table recognition model s3://table_recognition/2025_02_18 on device mps with dtype torch.float16\n"
     ]
    },
    {
     "name": "stderr",
     "output_type": "stream",
     "text": [
      "Downloading text_detection model...: 100%|██████████| 6/6 [00:04<00:00,  1.39it/s]\n"
     ]
    },
    {
     "name": "stdout",
     "output_type": "stream",
     "text": [
      "Loaded detection model s3://text_detection/2025_02_18 on device mps with dtype torch.float16\n"
     ]
    },
    {
     "name": "stderr",
     "output_type": "stream",
     "text": [
      "Downloading inline_math_detection model...: 100%|██████████| 5/5 [00:02<00:00,  2.50it/s]\n"
     ]
    },
    {
     "name": "stdout",
     "output_type": "stream",
     "text": [
      "Loaded detection model s3://inline_math_detection/2025_02_18 on device mps with dtype torch.float16\n"
     ]
    },
    {
     "name": "stderr",
     "output_type": "stream",
     "text": [
      "Downloading ocr_error_detection model...: 100%|██████████| 8/8 [00:04<00:00,  1.61it/s]\n"
     ]
    }
   ],
   "source": [
    "converter = PdfConverter(\n",
    "    artifact_dict=create_model_dict(),\n",
    "    config=config.generate_config_dict(),\n",
    "    renderer=config.get_renderer()\n",
    ")"
   ]
  },
  {
   "cell_type": "code",
   "execution_count": 8,
   "metadata": {},
   "outputs": [
    {
     "name": "stderr",
     "output_type": "stream",
     "text": [
      "Recognizing layout: 100%|██████████| 1/1 [00:02<00:00,  2.45s/it]\n",
      "Running OCR Error Detection: 100%|██████████| 1/1 [00:00<00:00,  6.31it/s]\n",
      "Detecting bboxes: 0it [00:00, ?it/s]\n",
      "Detecting bboxes: 0it [00:00, ?it/s]\n",
      "Recognizing tables: 100%|██████████| 1/1 [00:01<00:00,  1.69s/it]\n"
     ]
    },
    {
     "name": "stdout",
     "output_type": "stream",
     "text": [
      "Document wildfire converted in 5.21 seconds.\n"
     ]
    },
    {
     "name": "stderr",
     "output_type": "stream",
     "text": [
      "Recognizing layout: 100%|██████████| 2/2 [00:03<00:00,  1.79s/it]\n",
      "Running OCR Error Detection: 100%|██████████| 3/3 [00:00<00:00, 12.32it/s]\n",
      "Detecting bboxes: 0it [00:00, ?it/s]\n",
      "Detecting bboxes: 0it [00:00, ?it/s]\n",
      "Recognizing tables: 100%|██████████| 1/1 [00:07<00:00,  7.13s/it]\n"
     ]
    },
    {
     "name": "stdout",
     "output_type": "stream",
     "text": [
      "Document spanned-table converted in 12.34 seconds.\n"
     ]
    },
    {
     "name": "stderr",
     "output_type": "stream",
     "text": [
      "Recognizing layout: 100%|██████████| 2/2 [00:04<00:00,  2.37s/it]\n",
      "Running OCR Error Detection: 100%|██████████| 3/3 [00:00<00:00, 11.31it/s]\n",
      "Detecting bboxes: 0it [00:00, ?it/s]\n",
      "Texify inference: 100%|██████████| 1/1 [00:04<00:00,  4.62s/it]\n",
      "Detecting bboxes: 0it [00:00, ?it/s]\n",
      "Recognizing tables: 100%|██████████| 1/1 [00:03<00:00,  3.54s/it]"
     ]
    },
    {
     "name": "stdout",
     "output_type": "stream",
     "text": [
      "Document attention converted in 14.75 seconds.\n"
     ]
    },
    {
     "name": "stderr",
     "output_type": "stream",
     "text": [
      "\n",
      "Recognizing layout: 100%|██████████| 5/5 [00:13<00:00,  2.79s/it]\n",
      "Running OCR Error Detection: 100%|██████████| 8/8 [00:00<00:00, 10.85it/s]\n",
      "Detecting bboxes: 0it [00:00, ?it/s]\n",
      "Detecting bboxes: 100%|██████████| 1/1 [00:00<00:00,  1.47it/s]\n",
      "Recognizing Text: 100%|██████████| 1/1 [00:02<00:00,  2.92s/it]\n",
      "Recognizing tables: 100%|██████████| 2/2 [00:07<00:00,  3.98s/it]\n"
     ]
    },
    {
     "name": "stdout",
     "output_type": "stream",
     "text": [
      "Document complex converted in 32.08 seconds.\n"
     ]
    },
    {
     "name": "stderr",
     "output_type": "stream",
     "text": [
      "Recognizing layout: 100%|██████████| 4/4 [00:07<00:00,  1.76s/it]\n",
      "Running OCR Error Detection: 100%|██████████| 6/6 [00:00<00:00, 11.89it/s]\n",
      "Detecting bboxes: 0it [00:00, ?it/s]\n",
      "Detecting bboxes: 100%|██████████| 2/2 [00:01<00:00,  1.11it/s]\n",
      "Recognizing Text: 100%|██████████| 86/86 [09:00<00:00,  6.29s/it]\n",
      "Recognizing tables: 100%|██████████| 2/2 [00:11<00:00,  5.87s/it]\n"
     ]
    },
    {
     "name": "stdout",
     "output_type": "stream",
     "text": [
      "Document cj converted in 564.90 seconds.\n"
     ]
    }
   ],
   "source": [
    "pdf_names = [\"wildfire\", \"spanned-table\", \"attention\", \"complex\", \"cj\"]\n",
    "for pdf in pdf_names:\n",
    "    out_dir = Path(\"./marker\") / pdf\n",
    "    out_dir .mkdir(parents=True, exist_ok=True)\n",
    "\n",
    "    start_time = time.time()\n",
    "    rendered = converter(f\"./{pdf}.pdf\")\n",
    "    end_time = time.time() - start_time\n",
    "    print(f\"Document {pdf} converted in {end_time:.2f} seconds.\")\n",
    "    save_output(rendered, f\"./marker/{pdf}/\", pdf)"
   ]
  }
 ],
 "metadata": {
  "kernelspec": {
   "display_name": ".venv",
   "language": "python",
   "name": "python3"
  },
  "language_info": {
   "codemirror_mode": {
    "name": "ipython",
    "version": 3
   },
   "file_extension": ".py",
   "mimetype": "text/x-python",
   "name": "python",
   "nbconvert_exporter": "python",
   "pygments_lexer": "ipython3",
   "version": "3.12.9"
  }
 },
 "nbformat": 4,
 "nbformat_minor": 2
}
