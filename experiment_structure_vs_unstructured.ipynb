{
 "cells": [
  {
   "cell_type": "code",
   "execution_count": 1,
   "metadata": {},
   "outputs": [
    {
     "name": "stderr",
     "output_type": "stream",
     "text": [
      "/Users/arthur.tran/Projects/multimodal-rag/.venv/lib/python3.12/site-packages/tqdm/auto.py:21: TqdmWarning: IProgress not found. Please update jupyter and ipywidgets. See https://ipywidgets.readthedocs.io/en/stable/user_install.html\n",
      "  from .autonotebook import tqdm as notebook_tqdm\n"
     ]
    }
   ],
   "source": [
    "import os\n",
    "import getpass\n",
    "from langchain_community.document_loaders import PyMuPDFLoader\n",
    "from ragas.llms import LangchainLLMWrapper\n",
    "from ragas.embeddings import LangchainEmbeddingsWrapper\n",
    "from langchain_openai import AzureChatOpenAI\n",
    "from langchain_openai import AzureOpenAIEmbeddings\n",
    "from ragas.testset import TestsetGenerator"
   ]
  },
  {
   "cell_type": "code",
   "execution_count": 2,
   "metadata": {},
   "outputs": [],
   "source": [
    "def _set_env(var: str):\n",
    "    if not os.environ.get(var):\n",
    "        os.environ[var] = getpass.getpass(f\"{var}: \")\n",
    "\n",
    "_set_env(\"AZURE_OPENAI_API_KEY\")"
   ]
  },
  {
   "cell_type": "markdown",
   "metadata": {},
   "source": [
    "We will use RAGAS to generate a diverse set of questions for evaluating RAG."
   ]
  },
  {
   "cell_type": "code",
   "execution_count": 36,
   "metadata": {},
   "outputs": [],
   "source": [
    "loader = PyMuPDFLoader(\"wildfire.pdf\")\n",
    "data = loader.load()"
   ]
  },
  {
   "cell_type": "code",
   "execution_count": 40,
   "metadata": {},
   "outputs": [
    {
     "name": "stderr",
     "output_type": "stream",
     "text": [
      "Applying HeadlineSplitter:   0%|          | 0/3 [00:00<?, ?it/s]          unable to apply transformation: 'headlines' property not found in this node\n",
      "Generating personas: 100%|██████████| 2/2 [00:01<00:00,  1.91it/s]                                          \n",
      "Generating Scenarios: 100%|██████████| 3/3 [00:06<00:00,  2.19s/it]\n",
      "Generating Samples: 100%|██████████| 12/12 [00:04<00:00,  2.52it/s]\n"
     ]
    }
   ],
   "source": [
    "generator_llm = LangchainLLMWrapper(\n",
    "    AzureChatOpenAI(\n",
    "        azure_deployment=\"gpt-4o\",\n",
    "        api_version=\"2024-08-01-preview\",\n",
    "        azure_endpoint=\"https://pdf-converter.openai.azure.com/\",\n",
    "    )\n",
    ")\n",
    "generator_embeddings = LangchainEmbeddingsWrapper(\n",
    "    AzureOpenAIEmbeddings(\n",
    "        azure_deployment=\"text-embedding-3-large\",\n",
    "        api_version=\"2024-08-01-preview\",\n",
    "        azure_endpoint=\"https://pdf-converter.openai.azure.com/\",\n",
    "    )\n",
    ")\n",
    "\n",
    "generator = TestsetGenerator(llm=generator_llm, embedding_model=generator_embeddings)\n",
    "dataset = generator.generate_with_langchain_docs(data, testset_size=10)"
   ]
  },
  {
   "cell_type": "code",
   "execution_count": 47,
   "metadata": {},
   "outputs": [
    {
     "data": {
      "text/html": [
       "<div>\n",
       "<style scoped>\n",
       "    .dataframe tbody tr th:only-of-type {\n",
       "        vertical-align: middle;\n",
       "    }\n",
       "\n",
       "    .dataframe tbody tr th {\n",
       "        vertical-align: top;\n",
       "    }\n",
       "\n",
       "    .dataframe thead th {\n",
       "        text-align: right;\n",
       "    }\n",
       "</style>\n",
       "<table border=\"1\" class=\"dataframe\">\n",
       "  <thead>\n",
       "    <tr style=\"text-align: right;\">\n",
       "      <th></th>\n",
       "      <th>user_input</th>\n",
       "      <th>reference_contexts</th>\n",
       "      <th>reference</th>\n",
       "      <th>synthesizer_name</th>\n",
       "    </tr>\n",
       "  </thead>\n",
       "  <tbody>\n",
       "    <tr>\n",
       "      <th>0</th>\n",
       "      <td>how many acres burned in 1990s?</td>\n",
       "      <td>[https://crsreports.congress.gov Updated June ...</td>\n",
       "      <td>In the 1990s, an average of 3.3 million acres ...</td>\n",
       "      <td>single_hop_specifc_query_synthesizer</td>\n",
       "    </tr>\n",
       "    <tr>\n",
       "      <th>1</th>\n",
       "      <td>What percentage of wildfires were human-caused...</td>\n",
       "      <td>[Most wildfires are human-caused (89% of the a...</td>\n",
       "      <td>89% of the average number of wildfires from 20...</td>\n",
       "      <td>single_hop_specifc_query_synthesizer</td>\n",
       "    </tr>\n",
       "    <tr>\n",
       "      <th>2</th>\n",
       "      <td>What happen with wildfires in 2022?</td>\n",
       "      <td>[Wildfire Statistics https://crsreports.congre...</td>\n",
       "      <td>In 2022, 52% of the nationwide acreage burned ...</td>\n",
       "      <td>single_hop_specifc_query_synthesizer</td>\n",
       "    </tr>\n",
       "    <tr>\n",
       "      <th>3</th>\n",
       "      <td>Given the significant economic impacts on comm...</td>\n",
       "      <td>[Conflagrations Of the 1.6 million wildfires t...</td>\n",
       "      <td>Predicting which wildfires will escalate into ...</td>\n",
       "      <td>single_hop_specifc_query_synthesizer</td>\n",
       "    </tr>\n",
       "    <tr>\n",
       "      <th>4</th>\n",
       "      <td>How does the Department of the Interior (DOI) ...</td>\n",
       "      <td>[&lt;1-hop&gt;\\n\\nWildfire Statistics https://crsrep...</td>\n",
       "      <td>The Department of the Interior (DOI) plays a s...</td>\n",
       "      <td>multi_hop_abstract_query_synthesizer</td>\n",
       "    </tr>\n",
       "    <tr>\n",
       "      <th>5</th>\n",
       "      <td>How does the Department of the Interior (DOI) ...</td>\n",
       "      <td>[&lt;1-hop&gt;\\n\\nWildfire Statistics https://crsrep...</td>\n",
       "      <td>In 2022, 52% of the federal acreage burned by ...</td>\n",
       "      <td>multi_hop_abstract_query_synthesizer</td>\n",
       "    </tr>\n",
       "    <tr>\n",
       "      <th>6</th>\n",
       "      <td>What are the responsibilities of federal agenc...</td>\n",
       "      <td>[&lt;1-hop&gt;\\n\\nWildfire Statistics https://crsrep...</td>\n",
       "      <td>Federal agencies are responsible for respondin...</td>\n",
       "      <td>multi_hop_abstract_query_synthesizer</td>\n",
       "    </tr>\n",
       "    <tr>\n",
       "      <th>7</th>\n",
       "      <td>How do the statistics of wildfires on state, l...</td>\n",
       "      <td>[&lt;1-hop&gt;\\n\\nWildfire Statistics https://crsrep...</td>\n",
       "      <td>In 2022, 52% of the nationwide acreage burned ...</td>\n",
       "      <td>multi_hop_abstract_query_synthesizer</td>\n",
       "    </tr>\n",
       "    <tr>\n",
       "      <th>8</th>\n",
       "      <td>How much of Alaska's land was affected by wild...</td>\n",
       "      <td>[&lt;1-hop&gt;\\n\\nhttps://crsreports.congress.gov Up...</td>\n",
       "      <td>In 2022, wildfires burned 3.1 million acres in...</td>\n",
       "      <td>multi_hop_specific_query_synthesizer</td>\n",
       "    </tr>\n",
       "    <tr>\n",
       "      <th>9</th>\n",
       "      <td>How did the wildfires in Alaska in 2022 compar...</td>\n",
       "      <td>[&lt;1-hop&gt;\\n\\nhttps://crsreports.congress.gov Up...</td>\n",
       "      <td>In 2022, wildfires in Alaska burned over 3.1 m...</td>\n",
       "      <td>multi_hop_specific_query_synthesizer</td>\n",
       "    </tr>\n",
       "    <tr>\n",
       "      <th>10</th>\n",
       "      <td>What was the impact of wildfires in Alaska in ...</td>\n",
       "      <td>[&lt;1-hop&gt;\\n\\nhttps://crsreports.congress.gov Up...</td>\n",
       "      <td>In 2022, wildfires in Alaska burned over 3.1 m...</td>\n",
       "      <td>multi_hop_specific_query_synthesizer</td>\n",
       "    </tr>\n",
       "    <tr>\n",
       "      <th>11</th>\n",
       "      <td>How has the number of wildfires and the acreag...</td>\n",
       "      <td>[&lt;1-hop&gt;\\n\\nhttps://crsreports.congress.gov Up...</td>\n",
       "      <td>Over the last 30 years, the number of annual w...</td>\n",
       "      <td>multi_hop_specific_query_synthesizer</td>\n",
       "    </tr>\n",
       "  </tbody>\n",
       "</table>\n",
       "</div>"
      ],
      "text/plain": [
       "                                           user_input  \\\n",
       "0                     how many acres burned in 1990s?   \n",
       "1   What percentage of wildfires were human-caused...   \n",
       "2                 What happen with wildfires in 2022?   \n",
       "3   Given the significant economic impacts on comm...   \n",
       "4   How does the Department of the Interior (DOI) ...   \n",
       "5   How does the Department of the Interior (DOI) ...   \n",
       "6   What are the responsibilities of federal agenc...   \n",
       "7   How do the statistics of wildfires on state, l...   \n",
       "8   How much of Alaska's land was affected by wild...   \n",
       "9   How did the wildfires in Alaska in 2022 compar...   \n",
       "10  What was the impact of wildfires in Alaska in ...   \n",
       "11  How has the number of wildfires and the acreag...   \n",
       "\n",
       "                                   reference_contexts  \\\n",
       "0   [https://crsreports.congress.gov Updated June ...   \n",
       "1   [Most wildfires are human-caused (89% of the a...   \n",
       "2   [Wildfire Statistics https://crsreports.congre...   \n",
       "3   [Conflagrations Of the 1.6 million wildfires t...   \n",
       "4   [<1-hop>\\n\\nWildfire Statistics https://crsrep...   \n",
       "5   [<1-hop>\\n\\nWildfire Statistics https://crsrep...   \n",
       "6   [<1-hop>\\n\\nWildfire Statistics https://crsrep...   \n",
       "7   [<1-hop>\\n\\nWildfire Statistics https://crsrep...   \n",
       "8   [<1-hop>\\n\\nhttps://crsreports.congress.gov Up...   \n",
       "9   [<1-hop>\\n\\nhttps://crsreports.congress.gov Up...   \n",
       "10  [<1-hop>\\n\\nhttps://crsreports.congress.gov Up...   \n",
       "11  [<1-hop>\\n\\nhttps://crsreports.congress.gov Up...   \n",
       "\n",
       "                                            reference  \\\n",
       "0   In the 1990s, an average of 3.3 million acres ...   \n",
       "1   89% of the average number of wildfires from 20...   \n",
       "2   In 2022, 52% of the nationwide acreage burned ...   \n",
       "3   Predicting which wildfires will escalate into ...   \n",
       "4   The Department of the Interior (DOI) plays a s...   \n",
       "5   In 2022, 52% of the federal acreage burned by ...   \n",
       "6   Federal agencies are responsible for respondin...   \n",
       "7   In 2022, 52% of the nationwide acreage burned ...   \n",
       "8   In 2022, wildfires burned 3.1 million acres in...   \n",
       "9   In 2022, wildfires in Alaska burned over 3.1 m...   \n",
       "10  In 2022, wildfires in Alaska burned over 3.1 m...   \n",
       "11  Over the last 30 years, the number of annual w...   \n",
       "\n",
       "                        synthesizer_name  \n",
       "0   single_hop_specifc_query_synthesizer  \n",
       "1   single_hop_specifc_query_synthesizer  \n",
       "2   single_hop_specifc_query_synthesizer  \n",
       "3   single_hop_specifc_query_synthesizer  \n",
       "4   multi_hop_abstract_query_synthesizer  \n",
       "5   multi_hop_abstract_query_synthesizer  \n",
       "6   multi_hop_abstract_query_synthesizer  \n",
       "7   multi_hop_abstract_query_synthesizer  \n",
       "8   multi_hop_specific_query_synthesizer  \n",
       "9   multi_hop_specific_query_synthesizer  \n",
       "10  multi_hop_specific_query_synthesizer  \n",
       "11  multi_hop_specific_query_synthesizer  "
      ]
     },
     "execution_count": 47,
     "metadata": {},
     "output_type": "execute_result"
    }
   ],
   "source": [
    "dataset.to_pandas()"
   ]
  },
  {
   "cell_type": "code",
   "execution_count": 52,
   "metadata": {},
   "outputs": [],
   "source": [
    "test_df = dataset.to_pandas()\n",
    "queries = []\n",
    "ragas_responses = []\n",
    "for index, row in test_df[test_df['reference'] != 'nan'].iterrows():\n",
    "    queries.append(row['user_input'])\n",
    "    ragas_responses.append(row['reference'])"
   ]
  },
  {
   "cell_type": "code",
   "execution_count": 5,
   "metadata": {},
   "outputs": [],
   "source": [
    "queries = [\n",
    "    \"how many acres burned in 1990s?\",\n",
    "    \"What percentage of wildfires were human-caused from 2018 to 2022?\",\n",
    "    \"What happen with wildfires in 2022?\",\n",
    "    \"Given the significant economic impacts on communities affected by wildfires, what challenges are associated with predicting which wildfires will escalate into conflagrations?\",\n",
    "    \"How does the Department of the Interior (DOI) contribute to post-wildfire recovery and what are the economic impacts on communities?\",\n",
    "    \"How does the Department of the Interior (DOI) contribute to post-wildfire recovery, considering the acreage burned on DOI lands in 2022?\",\n",
    "    \"What are the responsibilities of federal agencies in wildfire management on federal lands, and how do these responsibilities impact the acreage burned in different regions?\",\n",
    "    \"How do the statistics of wildfires on state, local, or privately owned lands compare to those on federal lands in 2022, and what challenges are associated with predicting which wildfires will become conflagrations?\",\n",
    "    \"How much of Alaska's land was affected by wildfires in 2022 and what percentage of the total U.S. wildfire acreage does this represent?\",\n",
    "    \"How did the wildfires in Alaska in 2022 compare to the overall wildfire activity in the United States in terms of acreage burned and the distribution of federal versus nonfederal land?\",\n",
    "    \"What was the impact of wildfires in Alaska in 2022, and how did it compare to the overall wildfire activity in the United States?\",\n",
    "    \"How has the number of wildfires and the acreage burned changed over the last 30 years, and what role does the NICC play in compiling this data?\"\n",
    "]"
   ]
  },
  {
   "cell_type": "markdown",
   "metadata": {},
   "source": [
    "To make the experimentation fair, we will not use the response generated by Ragas. Instead, we will feed these questions to ChatGPT (using the file upload functionalities) to generate the actual test dataset."
   ]
  },
  {
   "cell_type": "code",
   "execution_count": 6,
   "metadata": {},
   "outputs": [],
   "source": [
    "expected_responses = [\n",
    "    \"According to the PDF, in the 1990s, the average annual acreage burned was 3.3 million acres. This is significantly lower than the average annual acreage burned since 2000, which has more than doubled to 7.0 million acres per year.\",\n",
    "    \"From 2018 to 2022, 89%% of wildfires were human-caused​\",\n",
    "    \"In 2022, 52%% of the nationwide acreage burned by wildfires was on federal lands (4.0 million acres), which was lower than the 10-year average of 64%. The other 48%% of the acreage burned was on state, local, or privately owned lands, though these fires accounted for 83%% of total fires. In the West, just over 20,000 wildfires burned approximately 5.8 million acres, while in the East, over 48,000 fires burned just over 1.8 million acres. Additionally, over 2,700 structures were burned in wildfires, with the majority of the damage occurring in California.\",\n",
    "    \"Predicting which wildfires will escalate into conflagrations is challenging due to multiple factors, including weather conditions, terrain, vegetation type, and fire behavior dynamics; only about 1%% of wildfires become large, destructive events, but identifying them in advance remains difficult.\",\n",
    "    \"The Department of the Interior (DOI) contributes to post-wildfire recovery through land restoration, erosion control, and habitat rehabilitation, while the economic impacts on communities include property damage, loss of infrastructure, business disruptions, and long-term environmental degradation.\",\n",
    "    \"In 2022, 2.1 million acres burned on DOI lands, and the department contributed to post-wildfire recovery through land restoration, erosion control, habitat rehabilitation, and reforestation efforts to mitigate environmental and economic impacts on affected areas.\",\n",
    "    \"Federal agencies manage wildfire response on federal lands, with the Forest Service (FS) overseeing 193 million acres of National Forest System land and the Department of the Interior (DOI) managing over 400 million acres of national parks, wildlife refuges, and other public lands. In 2022, 52%% of the total burned acreage (4.0 million acres) was on federal lands, with FS accounting for 1.9 million acres and DOI for 2.1 million acres. Regional differences show that in the West, 64%% of burned acreage was on federal lands, whereas in the East, 85%% of burned acreage was on nonfederal lands, reflecting federal agencies’ larger role in wildfire response in western states\",\n",
    "    \"In 2022, 48%% of burned acreage (3.6 million acres) was on state, local, or privately owned lands, while 52% (4.0 million acres) was on federal lands, despite 83%% of total wildfires occurring on nonfederal lands. Predicting which wildfires will become conflagrations is challenging due to factors like weather conditions, terrain, fuel availability, and fire behavior dynamics, with only 1%% of wildfires escalating into large, destructive events\",\n",
    "    \"In 2022, wildfires burned 3.1 million acres in Alaska, accounting for over 40%% of the total 7.6 million acres burned in the U.S\",\n",
    "    \"In 2022, Alaska wildfires burned 3.1 million acres, representing over 40%% of the 7.6 million acres burned nationwide. In Alaska, just over half (1.6 million acres) burned on nonfederal lands, while 1.5 million acres burned on DOI lands, reflecting a more balanced distribution between federal and nonfederal land compared to the overall U.S., where 52%% of burned acreage was on federal lands\",\n",
    "    \"In 2022, wildfires in Alaska burned 3.1 million acres, accounting for over 40%% of the 7.6 million acres burned nationwide. In contrast to the overall U.S., where 52%% of burned acreage was on federal lands, Alaska saw a more balanced distribution, with 1.6 million acres burning on nonfederal lands and 1.5 million acres on DOI lands, highlighting its significant share of the nation's wildfire impact\",\n",
    "    \"Over the last 30 years, the number of wildfires has slightly decreased, but the acreage burned has generally increased, with annual averages rising from 3.3 million acres in the 1990s to 7.0 million acres since 2000. The National Interagency Coordination Center (NICC) compiles and analyzes wildfire data nationwide, providing reports on wildfire frequency, burned acreage, and resource deployment, which help guide wildfire management strategies\"\n",
    "]"
   ]
  },
  {
   "cell_type": "code",
   "execution_count": 94,
   "metadata": {},
   "outputs": [],
   "source": [
    "from abc import ABC, abstractmethod\n",
    "\n",
    "class Rag(ABC):\n",
    "    @abstractmethod\n",
    "    def load_documents(self, doc_path):\n",
    "        pass\n",
    "\n",
    "    @abstractmethod\n",
    "    def get_most_relevant_docs(self, query):\n",
    "        \"\"\"Stop the vehicle\"\"\"\n",
    "        pass\n",
    "\n",
    "    @abstractmethod\n",
    "    def generate_answer(self, query, relevant_docs):\n",
    "        pass"
   ]
  },
  {
   "cell_type": "code",
   "execution_count": 95,
   "metadata": {},
   "outputs": [],
   "source": [
    "from langchain_chroma.vectorstores import Chroma\n",
    "\n",
    "simple_store = Chroma(\n",
    "    collection_name=\"simple\",\n",
    "    embedding_function=AzureOpenAIEmbeddings(\n",
    "            azure_deployment=\"text-embedding-3-large\",\n",
    "            api_version=\"2024-08-01-preview\",\n",
    "            azure_endpoint=\"https://pdf-converter.openai.azure.com/\",\n",
    "        ),  \n",
    ")\n",
    "structured_store = Chroma(\n",
    "    collection_name=\"structured\",\n",
    "     embedding_function=AzureOpenAIEmbeddings(\n",
    "            azure_deployment=\"text-embedding-3-large\",\n",
    "            api_version=\"2024-08-01-preview\",\n",
    "            azure_endpoint=\"https://pdf-converter.openai.azure.com/\",\n",
    "        ),  \n",
    ")"
   ]
  },
  {
   "cell_type": "code",
   "execution_count": 116,
   "metadata": {},
   "outputs": [],
   "source": [
    "from pypdf import PdfReader\n",
    "from pathlib import Path\n",
    "from langchain.text_splitter import RecursiveCharacterTextSplitter\n",
    "\n",
    "class SimpleRag(Rag):\n",
    "    def __init__(self, chunk_size=200, chunk_overlap=50):\n",
    "        self.llm = AzureChatOpenAI(\n",
    "            azure_deployment=\"gpt-4o\",\n",
    "            api_version=\"2024-08-01-preview\",\n",
    "            azure_endpoint=\"https://pdf-converter.openai.azure.com/\",\n",
    "        )\n",
    "        self.embeddings = AzureOpenAIEmbeddings(\n",
    "            azure_deployment=\"text-embedding-3-large\",\n",
    "            api_version=\"2024-08-01-preview\",\n",
    "            azure_endpoint=\"https://pdf-converter.openai.azure.com/\",\n",
    "        )\n",
    "\n",
    "        self.splitter = RecursiveCharacterTextSplitter(\n",
    "            chunk_size = chunk_size,\n",
    "            chunk_overlap = chunk_overlap\n",
    "        )\n",
    "\n",
    "    def load_documents(self, doc_path):\n",
    "        \"\"\"Load documents and compute their embeddings.\"\"\"\n",
    "        self.docs = []\n",
    "        simple_store.reset_collection()\n",
    "        reader = PdfReader(Path(doc_path))\n",
    "        pages = [page.extract_text() for page in reader.pages]\n",
    "        self.docs = self.splitter.create_documents([\"\\n\\n\".join(pages)])\n",
    "        simple_store.add_documents(self.docs)\n",
    "\n",
    "    def get_most_relevant_docs(self, query):\n",
    "        \"\"\"Find the most relevant document for a given query.\"\"\"\n",
    "        retriever = simple_store.as_retriever(\n",
    "            search_kwargs={\"k\": 2}\n",
    "        )\n",
    "        if not self.docs:\n",
    "            raise ValueError(\"Documents and their embeddings are not loaded.\")\n",
    "\n",
    "        return [doc.page_content for doc in retriever.invoke(query)]\n",
    "\n",
    "    def generate_answer(self, query, relevant_docs):\n",
    "        \"\"\"Generate an answer for a given query based on the most relevant document.\"\"\"\n",
    "        prompt = f\"question: {query}\\n\\nDocuments: {\"\\n\\n\".join(relevant_docs)}\"\n",
    "        messages = [\n",
    "            (\"system\", \"You are a helpful assistant that answers questions based on given documents only.\"),\n",
    "            (\"human\", prompt),\n",
    "        ]\n",
    "        ai_msg = self.llm.invoke(messages)\n",
    "        return ai_msg.content "
   ]
  },
  {
   "cell_type": "code",
   "execution_count": 117,
   "metadata": {},
   "outputs": [],
   "source": [
    "from pathlib import Path\n",
    "from docling.document_converter import DocumentConverter\n",
    "\n",
    "def analyze_doc(input_doc_path: Path):\n",
    "    converter = DocumentConverter()\n",
    "    result = converter.convert(input_doc_path)\n",
    "    return result.document.export_to_markdown()"
   ]
  },
  {
   "cell_type": "code",
   "execution_count": 118,
   "metadata": {},
   "outputs": [],
   "source": [
    "import tiktoken\n",
    "\n",
    "class TokenEstimator():\n",
    "    tokenizer = tiktoken.encoding_for_model(\"gpt-4o\")\n",
    "    def estimate_tokens(self, text):\n",
    "        return len(self.tokenizer.encode(text, allowed_special=\"all\"))\n",
    "\n",
    "def merge_chunk_serially(chunks, max_size):\n",
    "    token_estimator = TokenEstimator()\n",
    "    total_size = 0\n",
    "    current_chunk = \"\"\n",
    "    for chunk in chunks:\n",
    "        chunk_size = token_estimator.estimate_tokens(chunk)\n",
    "        if total_size > 0:\n",
    "            new_size = total_size + chunk_size\n",
    "            if new_size > max_size:\n",
    "                yield current_chunk\n",
    "                current_chunk = \"\"\n",
    "                total_size = 0\n",
    "\n",
    "        total_size += chunk_size\n",
    "        current_chunk += chunk\n",
    "    \n",
    "    if total_size > 0:\n",
    "        yield current_chunk"
   ]
  },
  {
   "cell_type": "code",
   "execution_count": 126,
   "metadata": {},
   "outputs": [],
   "source": [
    "from langchain.text_splitter import MarkdownHeaderTextSplitter\n",
    "from langchain_experimental.text_splitter import SemanticChunker\n",
    "\n",
    "class StructuredRag(Rag):\n",
    "    def __init__(self, chunk_size=200, chunk_overlap=50, is_semantic=False):\n",
    "        self.llm = AzureChatOpenAI(\n",
    "            azure_deployment=\"gpt-4o\",\n",
    "            api_version=\"2024-08-01-preview\",\n",
    "            azure_endpoint=\"https://pdf-converter.openai.azure.com/\",\n",
    "        )\n",
    "        self.embeddings = AzureOpenAIEmbeddings(\n",
    "            azure_deployment=\"text-embedding-3-large\",\n",
    "            api_version=\"2024-08-01-preview\",\n",
    "            azure_endpoint=\"https://pdf-converter.openai.azure.com/\",\n",
    "        )\n",
    "        self.doc_embeddings = None\n",
    "        if is_semantic:\n",
    "            self.splitter = SemanticChunker(self.embeddings)\n",
    "        else:\n",
    "            self.splitter = RecursiveCharacterTextSplitter(\n",
    "                chunk_size = chunk_size,\n",
    "                chunk_overlap = chunk_overlap\n",
    "            ).from_tiktoken_encoder(\n",
    "                model_name=\"gpt-4o\",\n",
    "                allowed_special=\"all\"\n",
    "            )\n",
    "        self.chunk_size = chunk_size\n",
    "\n",
    "    def load_documents(self, doc_path):\n",
    "        \"\"\"Load documents and compute their embeddings.\"\"\"\n",
    "        self.docs = []\n",
    "        structured_store.reset_collection()\n",
    "        md_text = analyze_doc(Path(doc_path))\n",
    "        self.docs = self.splitter.create_documents([md_text])\n",
    "\n",
    "        estimator = TokenEstimator()\n",
    "        total_tokens = 0\n",
    "        for doc in self.docs:\n",
    "            total_tokens += estimator.estimate_tokens(doc.page_content)\n",
    "        print(len(self.docs))\n",
    "        print(f\"Average chunk size: {total_tokens / len(self.docs)}\")\n",
    "\n",
    "        structured_store.add_documents(self.docs)\n",
    "\n",
    "    def get_most_relevant_docs(self, query):\n",
    "        \"\"\"Find the most relevant document for a given query.\"\"\"\n",
    "        retriever = structured_store.as_retriever(\n",
    "            search_kwargs={\"k\": 2}\n",
    "        )\n",
    "        if not self.docs:\n",
    "            raise ValueError(\"Documents and their embeddings are not loaded.\")\n",
    "\n",
    "        return [doc.page_content for doc in retriever.invoke(query)]\n",
    "\n",
    "    def generate_answer(self, query, relevant_docs):\n",
    "        \"\"\"Generate an answer for a given query based on the most relevant document.\"\"\"\n",
    "        prompt = f\"question: {query}\\n\\nDocuments: {\"\\n\\n\".join(relevant_docs)}\"\n",
    "        messages = [\n",
    "            (\"system\", \"You are a helpful assistant that answers questions based on given documents only.\"),\n",
    "            (\"human\", prompt),\n",
    "        ]\n",
    "        ai_msg = self.llm.invoke(messages)\n",
    "        return ai_msg.content "
   ]
  },
  {
   "cell_type": "code",
   "execution_count": 44,
   "metadata": {},
   "outputs": [],
   "source": [
    "from ragas import evaluate\n",
    "from ragas.llms import LangchainLLMWrapper\n",
    "from ragas.metrics import LLMContextRecall, Faithfulness, FactualCorrectness, ResponseRelevancy, LLMContextPrecisionWithReference\n",
    "from ragas import EvaluationDataset\n",
    "\n",
    "def evaluate_rag(rag: Rag):\n",
    "    dataset = []\n",
    "    rag.load_documents(\"./wildfire.pdf\")\n",
    "\n",
    "    for query,reference in zip(queries,expected_responses):\n",
    "\n",
    "        relevant_docs = rag.get_most_relevant_docs(query)\n",
    "        response = rag.generate_answer(query, relevant_docs)\n",
    "        dataset.append(\n",
    "            {\n",
    "                \"user_input\":query,\n",
    "                \"retrieved_contexts\":relevant_docs,\n",
    "                \"response\":response,\n",
    "                \"reference\":reference,\n",
    "            }\n",
    "        )\n",
    "    \n",
    "    evaluator_llm = LangchainLLMWrapper(\n",
    "        AzureChatOpenAI(\n",
    "            azure_deployment=\"gpt-4o\",\n",
    "            api_version=\"2024-08-01-preview\",\n",
    "            azure_endpoint=\"https://pdf-converter.openai.azure.com/\",\n",
    "        )\n",
    "    )\n",
    "    evaluator_embeddings = LangchainEmbeddingsWrapper(\n",
    "        AzureOpenAIEmbeddings(\n",
    "            azure_deployment=\"text-embedding-3-large\",\n",
    "            api_version=\"2024-08-01-preview\",\n",
    "            azure_endpoint=\"https://pdf-converter.openai.azure.com/\",\n",
    "        )\n",
    "    )\n",
    "\n",
    "    evaluation_dataset = EvaluationDataset.from_list(dataset)\n",
    "    result = evaluate(dataset=evaluation_dataset,metrics=[LLMContextRecall(), Faithfulness(), FactualCorrectness(), ResponseRelevancy(), LLMContextPrecisionWithReference()],llm=evaluator_llm, embeddings=evaluator_embeddings)\n",
    "    return result"
   ]
  },
  {
   "cell_type": "code",
   "execution_count": 25,
   "metadata": {},
   "outputs": [
    {
     "name": "stderr",
     "output_type": "stream",
     "text": [
      "Evaluating: 100%|██████████| 48/48 [01:27<00:00,  1.82s/it]\n"
     ]
    },
    {
     "data": {
      "text/plain": [
       "{'context_recall': 0.4653, 'faithfulness': 0.7573, 'factual_correctness': 0.6058, 'answer_relevancy': 0.8159}"
      ]
     },
     "execution_count": 25,
     "metadata": {},
     "output_type": "execute_result"
    }
   ],
   "source": [
    "evaluate_rag(SimpleRag())"
   ]
  },
  {
   "cell_type": "code",
   "execution_count": 26,
   "metadata": {},
   "outputs": [
    {
     "name": "stderr",
     "output_type": "stream",
     "text": [
      "Evaluating: 100%|██████████| 48/48 [01:25<00:00,  1.77s/it]\n"
     ]
    },
    {
     "data": {
      "text/plain": [
       "{'context_recall': 0.4653, 'faithfulness': 0.7440, 'factual_correctness': 0.6600, 'answer_relevancy': 0.8041}"
      ]
     },
     "execution_count": 26,
     "metadata": {},
     "output_type": "execute_result"
    }
   ],
   "source": [
    "evaluate_rag(StructuredRag())"
   ]
  },
  {
   "cell_type": "code",
   "execution_count": 121,
   "metadata": {},
   "outputs": [
    {
     "name": "stderr",
     "output_type": "stream",
     "text": [
      "Evaluating: 100%|██████████| 60/60 [02:10<00:00,  2.17s/it]\n"
     ]
    },
    {
     "data": {
      "text/plain": [
       "{'context_recall': 0.3819, 'faithfulness': 0.7780, 'factual_correctness': 0.6125, 'answer_relevancy': 0.8520, 'llm_context_precision_with_reference': 0.4167}"
      ]
     },
     "execution_count": 121,
     "metadata": {},
     "output_type": "execute_result"
    }
   ],
   "source": [
    "evaluate_rag(SimpleRag(chunk_size=400, chunk_overlap=100))"
   ]
  },
  {
   "cell_type": "code",
   "execution_count": 120,
   "metadata": {},
   "outputs": [
    {
     "name": "stdout",
     "output_type": "stream",
     "text": [
      "8\n",
      "6\n",
      "6\n"
     ]
    },
    {
     "name": "stderr",
     "output_type": "stream",
     "text": [
      "Evaluating: 100%|██████████| 60/60 [02:26<00:00,  2.45s/it]\n"
     ]
    },
    {
     "data": {
      "text/plain": [
       "{'context_recall': 0.8125, 'faithfulness': 0.7607, 'factual_correctness': 0.6350, 'answer_relevancy': 0.8357, 'llm_context_precision_with_reference': 0.8333}"
      ]
     },
     "execution_count": 120,
     "metadata": {},
     "output_type": "execute_result"
    }
   ],
   "source": [
    "evaluate_rag(StructuredRag(chunk_size=400, chunk_overlap=100))"
   ]
  },
  {
   "cell_type": "code",
   "execution_count": 125,
   "metadata": {},
   "outputs": [
    {
     "name": "stdout",
     "output_type": "stream",
     "text": [
      "5\n"
     ]
    },
    {
     "name": "stderr",
     "output_type": "stream",
     "text": [
      "Evaluating: 100%|██████████| 60/60 [02:27<00:00,  2.46s/it]\n"
     ]
    },
    {
     "data": {
      "text/plain": [
       "{'context_recall': 0.7917, 'faithfulness': 0.8428, 'factual_correctness': 0.5808, 'answer_relevancy': 0.7701, 'llm_context_precision_with_reference': 0.7083}"
      ]
     },
     "execution_count": 125,
     "metadata": {},
     "output_type": "execute_result"
    }
   ],
   "source": [
    "evaluate_rag(StructuredRag(is_semantic=True))"
   ]
  },
  {
   "cell_type": "code",
   "execution_count": 127,
   "metadata": {},
   "outputs": [
    {
     "name": "stdout",
     "output_type": "stream",
     "text": [
      "5\n",
      "Average chunk size: 517.8\n"
     ]
    }
   ],
   "source": [
    "rag =  StructuredRag(is_semantic=True)\n",
    "rag.load_documents(\"./wildfire.pdf\")"
   ]
  },
  {
   "cell_type": "code",
   "execution_count": 128,
   "metadata": {},
   "outputs": [],
   "source": [
    "relevant_docs = rag.get_most_relevant_docs(\"How has the number of wildfires and the acreage burned changed over the last 30 years, and what role does the NICC play in compiling this data?\")"
   ]
  },
  {
   "cell_type": "code",
   "execution_count": 132,
   "metadata": {},
   "outputs": [
    {
     "name": "stdout",
     "output_type": "stream",
     "text": [
      "wildfire activity. Nationwide data compiled by the National Interagency Coordination Center (NICC) indicate that the number of annual wildfires is variable but has decreased slightly over the last 30 years. The number of acres affected annually, while also variable, generally has increased (see Figure 1 ). Since 2000, an annual average of 70,025 wildfires have burned an annual average of 7.0 million acres. The acreage figure is more than double the average annual acreage burned in the 1990s (3.3 million acres), although a greater number of fires occurred annually in the 1990s on average (78,600). Table 1. Annual Wildfires and Acres Burned\n",
      "\n",
      "|                             | 2018                        | 2019                        | 2020                        | 2021                        | 2022                        |\n",
      "|-----------------------------|-----------------------------|-----------------------------|-----------------------------|-----------------------------|-----------------------------|\n",
      "| Number of Fires (thousands) | Number of Fires (thousands) | Number of Fires (thousands) | Number of Fires (thousands) | Number of Fires (thousands) | Number of Fires (thousands) |\n",
      "| Federal                     | 12.5                        | 10.9                        | 14.4                        | 14.0                        | 11.7                        |\n",
      "| FS                          | 5.6                         | 5.3                         | 6.7                         | 6.2                         | 5.9                         |\n",
      "| DOI                         | 7.0                         | 5.3                         | 7.6                         | 7.6                         | 5.8                         |\n",
      "| Other                       | 0.1                         | 0.2                         | &lt;0.1                        | 0.2                         | 0.1                         |\n",
      "| Nonfederal                  | 45.6                        | 39.6                        | 44.6                        | 45.0                        | 57.2                        |\n",
      "| Total                       | 58.1                        | 50.5                        | 59.0                        | 59.0                        | 69.0                        |\n",
      "| Acres Burned (millions)     | Acres Burned (millions)     | Acres Burned (millions)     | Acres Burned (millions)     | Acres Burned (millions)     | Acres Burned (millions)     |\n",
      "| Federal                     | 4.6                         | 3.1                         | 7.1                         | 5.2                         | 4.0                         |\n",
      "| FS                          | 2.3                         | 0.6                         | 4.8                         | 4.1                         | 1.9                         |\n",
      "| DOI                         | 2.3                         | 2.3                         | 2.3                         | 1.0                         | 2.1                         |\n",
      "| Other                       | &lt;0.1                        | &lt;0.1                        | &lt;0.1                        | &lt;0.1                        | &lt;0.1                        |\n",
      "| Nonfederal                  | 4.1                         | 1.6                         | 3.1                         | 1.9                         | 3.6                         |\n",
      "| Total                       | 8.8                         | 4.7                         | 10.1                        | 7.1                         | 7.6                         |\n",
      "\n",
      "Source: National Interagency Coordination Center (NICC) Wildland Fire Summary and Statistics annual reports. Notes: FS = Forest Service; DOI = Department of the Interior.\n",
      "Column totals may not sum precisely due to rounding. Figure 1. Annual Wildfires and Acres Burned, 1993-2022\n",
      "\n",
      "<!-- image -->\n",
      "\n",
      "Source: NICC Wildland Fire Summary and Statistics annual reports. Note: Data reflect wildland fires and acres burned nationwide, including wildland fires on federal and nonfederal lands. From 2013 to 2022, there were an average of 61,410 wildfires annually and an average of 7.2 million acres impacted annually. In 2022, 68,988 wildfires burned 7.6 million acres. Over 40% of those acres were in Alaska (3.1 million acres). As of June 1, 2023, around 18,300 wildfires have impacted over 511,000 acres this year. Figure 2. Top Five Years with Largest Wildfire Acreage Burned Since 1960\n",
      "\n",
      "<!-- image -->\n",
      "\n",
      "Source: NICC Wildland Fire Summary and Statistics annual reports. Note: Number of fires in thousands. The number of fires and acreage burned are indicators of the annual level of wildfire activity. These numbers may not be indicative of fire's impact on human development or communities, since many fires occur in large, relatively undeveloped areas. Acreage burned also does not indicate the severity of a wildfire, the degree of impact upon forests or soils, or other ecological effects. Most wildfires are human-caused (89% of the average number of wildfires from 2018 to 2022). Wildfires caused by lightning tend to be slightly larger and to burn more acreage (53% of the average acreage burned from 2018 to 2022) than human-caused fires. In 2022, 52% of the nationwide acreage burned by wildfires was on federal lands (4.0 million acres; see Table 1 ), lower than the 10-year average (64%) of impacted federal land acreage. The other 48% of the acreage burned in 2022 was on state, local, or privately owned lands, though the fires on these lands accounted for 83% of total fires. Of the federal acreage burned nationwide in 2022, 52% (2.1 million acres) burned on DOI land and 47% (1.9 million acres) burned on FS land (see Figure 3 ). The 2022 figures are driven largely by Alaska, where just over half of the acreage impacted occurred on nonfederal lands (1.6 million acres) and just under half was on DOI lands (1.5 million acres). ## Figure 3. Percentage Acreage Burned by Ownership\n",
      "\n",
      "Figure 4. Acreage Burned by Region and Ownership\n",
      "\n",
      "<!-- image -->\n",
      "\n",
      "Source: NICC Wildland Fire Summary and Statistics annual reports. Note: DOI = Department of the Interior. More wildfires occur in the East (including the central states), but the wildfires in the West (i.e., Alaska, Arizona, California, Colorado, Idaho, Montana, New Mexico, Nevada, Oregon, Utah, Washington, and Wyoming) are larger and burn more acreage. In 2022, just over 20,000 wildfires burned approximately 5.8 million acres in the West, compared with the over 48,000 fires that burned just over 1.8 million acres in the East. In the East (where there is less federal acreage), most of the fires occur on nonfederal lands; in the West, most of the fires occur on federal lands (see Figure 4 ). In 2022, 85% (1.5 million acres) of the acreage burned in the East was on nonfederal land, whereas 64% (3.7 million acres) of the acreage burned in the West was on federal land. <!-- image -->\n",
      "\n",
      "Source: NICC Wildland Fire Summary and Statistics annual reports. Notes: West: AK, AZ, CA, CO, ID, HI, MT, NM, NV, OR, UT, WA, and WY. East: All other states and Puerto Rico. ## Resources\n",
      "\n",
      "Another metric useful for assessing wildfire activity is the extent to which nationwide resources-including personnel and equipment-are engaged in wildfire suppression. A proxy for resource commitments is the nationwide Preparedness Level (PL) scale, which ranges from 1 (lowest) to 5 (highest). The higher PLs indicate significant commitment of shared resources. In 2022, the nationwide level was 4 for 10 days and never reached the highest level (5). In contrast, the highest level was reached for 68 days in 2021, the longest since at least 2000. ## Wildfire Damages\n",
      "\n",
      "Wildfires may affect certain ecological resources beneficially, but wildfires also may have devastating impacts, especially for communities affected by wildfire activity. Statistics showing the level of destruction a wildfire caused can provide useful metrics to evaluate the fire's effect. Such statistics may include acres burned or impacted, lives lost (firefighters and civilians), and structures (residential, commercial, and other) destroyed. For example, in 2022, over 2,700 structures were burned in wildfires; the majority of the damage occurred in California (see Table 2 ). Table 2. Loss Statistics\n",
      "\n",
      "|                   | 2019   | 2020   | 2021   | 2022   |\n",
      "|-------------------|--------|--------|--------|--------|\n",
      "| Structures Burned | 963    | 17,904 | 5,972  | 2,717  |\n",
      "| % Residences      | 46%    | 54%    | 60%    | 46%    |\n",
      "\n",
      "Source: NICC Wildland Fire Summary and Statistics annual reports. ## Conflagrations\n",
      "\n",
      "Of the 1.6 million wildfires that have occurred since 2000, 254 exceeded 100,000 acres burned and 16 exceeded 500,000 acres burned. A small fraction of wildfires become catastrophic, and a small percentage of fires accounts for the vast majority of acres burned. For example, about 1% of wildfires become conflagrations -raging, destructive fires-but predicting which fires will 'blow up' into conflagrations is challenging and depends on a multitude of factors, such as weather and geography. There have been 1,041 large or significant fires annually on average from 2018 through 2022. In 2022, 2% of wildfires were classified as large or significant (1,289); 45 exceeded 40,000 acres in size, and 17 exceeded 100,000 acres. For context, there were fewer large or significant wildfires in 2021 (943) but more in 2017 (1,409). ## Issues for Congress\n",
      "\n",
      "Issues Congress may consider include the strategies and resources used for wildfire prevention, mitigation, and management, as well as wildfires' impact on both the quality of life and the economies of communities affected by wildfire activity. Other issues relate to post-wildfire recovery and site restoration. Congress also considers the total federal cost of wildfire management, including the cost of suppression operations; these costs vary annually and are difficult to predict. Katie Hoover , Specialist in Natural Resources Policy Laura A.\n"
     ]
    }
   ],
   "source": [
    "for doc in relevant_docs:\n",
    "    print(doc)"
   ]
  },
  {
   "cell_type": "code",
   "execution_count": 90,
   "metadata": {},
   "outputs": [
    {
     "data": {
      "text/plain": [
       "[Document(id='486c1b6c-0a8e-4070-a214-66fe1e94eb2b', metadata={}, page_content=\"## Wildfire Statistics  \\nWildfires are unplanned fires, including lightning-caused fires, unauthorized human-caused fires, and escaped fires from prescribed burn projects. States are responsible for responding to wildfires that begin on nonfederal (state, local, and private) lands, except for lands protected by federal agencies under cooperative agreements. The federal government is responsible for responding to wildfires that begin on federal lands. The Forest Service (FS)-within the U.S. Department of Agriculture-carries out wildfire management and response across the 193 million acres of the National Forest System (NFS). The Department of the Interior (DOI) manages wildfire response for more than 400 million acres of national parks, wildlife refuges and preserves, other public lands, and Indian reservations.  \\nWildfire statistics help illustrate past U.S. wildfire activity. Nationwide data compiled by the National Interagency Coordination Center (NICC) indicate that the number of annual wildfires is variable but has decreased slightly over the last 30 years. The number of acres affected annually, while also variable, generally has increased (see Figure 1 ). Since 2000, an annual average of 70,025 wildfires have burned an annual average of 7.0 million acres. The acreage figure is more than double the average annual acreage burned in the 1990s (3.3 million acres), although a greater number of fires occurred annually in the 1990s on average (78,600).  \\nTable 1. Annual Wildfires and Acres Burned  \\n|                             | 2018                        | 2019                        | 2020                        | 2021                        | 2022                        |\\n|-----------------------------|-----------------------------|-----------------------------|-----------------------------|-----------------------------|-----------------------------|\\n| Number of Fires (thousands) | Number of Fires (thousands) | Number of Fires (thousands) | Number of Fires (thousands) | Number of Fires (thousands) | Number of Fires (thousands) |\\n| Federal                     | 12.5                        | 10.9                        | 14.4                        | 14.0                        | 11.7                        |\\n| FS                          | 5.6                         | 5.3                         | 6.7                         | 6.2                         | 5.9                         |\\n| DOI                         | 7.0                         | 5.3                         | 7.6                         | 7.6                         | 5.8                         |\\n| Other                       | 0.1                         | 0.2                         | &lt;0.1                        | 0.2                         | 0.1                         |\\n| Nonfederal                  | 45.6                        | 39.6                        | 44.6                        | 45.0                        | 57.2                        |\\n| Total                       | 58.1                        | 50.5                        | 59.0                        | 59.0                        | 69.0                        |\\n| Acres Burned (millions)     | Acres Burned (millions)     | Acres Burned (millions)     | Acres Burned (millions)     | Acres Burned (millions)     | Acres Burned (millions)     |\\n| Federal                     | 4.6                         | 3.1                         | 7.1                         | 5.2                         | 4.0                         |\\n| FS                          | 2.3                         | 0.6                         | 4.8                         | 4.1                         | 1.9                         |\\n| DOI                         | 2.3                         | 2.3                         | 2.3                         | 1.0                         | 2.1                         |\\n| Other                       | &lt;0.1                        | &lt;0.1                        | &lt;0.1                        | &lt;0.1                        | &lt;0.1                        |\\n| Nonfederal                  | 4.1                         | 1.6                         | 3.1                         | 1.9                         | 3.6                         |\\n| Total                       | 8.8                         | 4.7                         | 10.1                        | 7.1                         | 7.6                         |  \\nSource: National Interagency Coordination Center (NICC) Wildland Fire Summary and Statistics annual reports.  \\nNotes: FS = Forest Service; DOI = Department of the Interior.  \\nColumn totals may not sum precisely due to rounding.  \\nFigure 1. Annual Wildfires and Acres Burned, 1993-2022  \\n<!-- image -->  \\nSource: NICC Wildland Fire Summary and Statistics annual reports. Note: Data reflect wildland fires and acres burned nationwide, including wildland fires on federal and nonfederal lands.  \\nFrom 2013 to 2022, there were an average of 61,410 wildfires annually and an average of 7.2 million acres impacted annually. In 2022, 68,988 wildfires burned 7.6 million acres. Over 40% of those acres were in Alaska (3.1 million acres).  \\nAs of June 1, 2023, around 18,300 wildfires have impacted over 511,000 acres this year.  \\nFigure 2. Top Five Years with Largest Wildfire Acreage Burned Since 1960  \\n<!-- image -->  \\nSource: NICC Wildland Fire Summary and Statistics annual reports. Note: Number of fires in thousands.  \\nThe number of fires and acreage burned are indicators of the annual level of wildfire activity. These numbers may not be indicative of fire's impact on human development or communities, since many fires occur in large, relatively undeveloped areas. Acreage burned also does not indicate the severity of a wildfire, the degree of impact upon forests or soils, or other ecological effects.  \\nMost wildfires are human-caused (89% of the average number of wildfires from 2018 to 2022). Wildfires caused by lightning tend to be slightly larger and to burn more acreage (53% of the average acreage burned from 2018 to 2022) than human-caused fires.  \\nIn 2022, 52% of the nationwide acreage burned by wildfires was on federal lands (4.0 million acres; see Table 1 ), lower than the 10-year average (64%) of impacted federal land acreage. The other 48% of the acreage burned in 2022 was on state, local, or privately owned lands, though the fires on these lands accounted for 83% of total fires. Of the federal acreage burned nationwide in 2022, 52% (2.1 million acres) burned on DOI land and 47% (1.9 million acres) burned on FS land (see Figure 3 ). The 2022 figures are driven largely by Alaska, where just over half of the acreage impacted occurred on nonfederal lands (1.6 million acres) and just under half was on DOI lands (1.5 million acres).\"),\n",
       " Document(id='30c2a0ff-b046-4326-aaf8-4ea75c389877', metadata={}, page_content='## Figure 3. Percentage Acreage Burned by Ownership  \\nFigure 4. Acreage Burned by Region and Ownership  \\n<!-- image -->  \\nSource: NICC Wildland Fire Summary and Statistics annual reports. Note: DOI = Department of the Interior.  \\nMore wildfires occur in the East (including the central states), but the wildfires in the West (i.e., Alaska, Arizona, California, Colorado, Idaho, Montana, New Mexico, Nevada, Oregon, Utah, Washington, and Wyoming) are larger and burn more acreage. In 2022, just over 20,000 wildfires burned approximately 5.8 million acres in the West, compared with the over 48,000 fires that burned just over 1.8 million acres in the East. In the East (where there is less federal acreage), most of the fires occur on nonfederal lands; in the West, most of the fires occur on federal lands (see Figure 4 ). In 2022, 85% (1.5 million acres) of the acreage burned in the East was on nonfederal land, whereas 64% (3.7 million acres) of the acreage burned in the West was on federal land.  \\n<!-- image -->  \\nSource: NICC Wildland Fire Summary and Statistics annual reports. Notes: West: AK, AZ, CA, CO, ID, HI, MT, NM, NV, OR, UT, WA, and WY. East: All other states and Puerto Rico.')]"
      ]
     },
     "execution_count": 90,
     "metadata": {},
     "output_type": "execute_result"
    }
   ],
   "source": [
    "retriever = structured_store.as_retriever(\n",
    "    search_kwargs={\"k\": 2}\n",
    ")\n",
    "retriever.invoke(\"How has the number of wildfires and the acreage burned changed over the last 30 years, and what role does the NICC play in compiling this data?\", )"
   ]
  }
 ],
 "metadata": {
  "kernelspec": {
   "display_name": ".venv",
   "language": "python",
   "name": "python3"
  },
  "language_info": {
   "codemirror_mode": {
    "name": "ipython",
    "version": 3
   },
   "file_extension": ".py",
   "mimetype": "text/x-python",
   "name": "python",
   "nbconvert_exporter": "python",
   "pygments_lexer": "ipython3",
   "version": "3.12.9"
  }
 },
 "nbformat": 4,
 "nbformat_minor": 2
}
